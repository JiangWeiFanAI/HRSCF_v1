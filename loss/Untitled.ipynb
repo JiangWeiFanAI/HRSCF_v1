{
 "cells": [
  {
   "cell_type": "code",
   "execution_count": 3,
   "metadata": {
    "ExecuteTime": {
     "end_time": "2021-03-02T21:35:03.045107Z",
     "start_time": "2021-03-02T21:35:01.975925Z"
    }
   },
   "outputs": [
    {
     "data": {
      "text/plain": [
       "(317, 367)"
      ]
     },
     "execution_count": 3,
     "metadata": {},
     "output_type": "execute_result"
    }
   ],
   "source": [
    "import properscoring as ps\n",
    "import numpy as np\n",
    "a=np.random.rand(317,367,220)\n",
    "b=np.random.rand(317,367)\n",
    "ps.crps_ensemble(b,a).sh"
   ]
  },
  {
   "cell_type": "code",
   "execution_count": 4,
   "metadata": {
    "ExecuteTime": {
     "end_time": "2021-03-02T21:35:17.694580Z",
     "start_time": "2021-03-02T21:35:17.689593Z"
    }
   },
   "outputs": [
    {
     "data": {
      "text/plain": [
       "(217, 367, 220)"
      ]
     },
     "execution_count": 4,
     "metadata": {},
     "output_type": "execute_result"
    }
   ],
   "source": [
    "a[:217].shape"
   ]
  }
 ],
 "metadata": {
  "kernelspec": {
   "display_name": "Python 3",
   "language": "python",
   "name": "python3"
  },
  "language_info": {
   "codemirror_mode": {
    "name": "ipython",
    "version": 3
   },
   "file_extension": ".py",
   "mimetype": "text/x-python",
   "name": "python",
   "nbconvert_exporter": "python",
   "pygments_lexer": "ipython3",
   "version": "3.7.1"
  }
 },
 "nbformat": 4,
 "nbformat_minor": 4
}
