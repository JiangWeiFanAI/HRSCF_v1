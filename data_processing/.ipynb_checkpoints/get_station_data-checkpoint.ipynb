{
 "cells": [
  {
   "cell_type": "markdown",
   "metadata": {},
   "source": [
    "the file shows how to use the given latitude and longitude to get coordinates in the image:"
   ]
  },
  {
   "cell_type": "code",
   "execution_count": 36,
   "metadata": {},
   "outputs": [],
   "source": [
    "#first read the csv file or take the prepared data from util.constant_param\n",
    "import sys\n",
    "sys.path.append('../')\n",
    "import util.data_processing_tool as dpt\n",
    "from datetime import date\n",
    "import numpy as np\n",
    "# from util.constant_param import station_lat_lon_50 as station_dict\n",
    "\n",
    "from util.constant_param import station_lat_lon_214 as station_dict\n",
    "\n"
   ]
  },
  {
   "cell_type": "code",
   "execution_count": null,
   "metadata": {},
   "outputs": [],
   "source": [
    "import pandas as pd\n",
    "\n",
    "a=pd.read_csv(\"../new50site_ext.csv\",index_col=\"StationName\")\n",
    "a.head()\n",
    "station=a[[\"Lat\",\"Lon\"]]\n",
    "# station.set_index('StationName')\n",
    "station_50={}\n",
    "station=station.to_dict(orient='index')\n",
    "station\n",
    "for ll in station:\n",
    "    lat=station[ll][\"Lat\"]\n",
    "    lon=station[ll][\"Lon\"]\n",
    "    station_50[ll]=[lat,lon]\n",
    "station_50"
   ]
  },
  {
   "cell_type": "code",
   "execution_count": 5,
   "metadata": {},
   "outputs": [],
   "source": [
    "date_time=date(1990,1,1)\n",
    "data,lats,lons=dpt.read_barra_data_fc_get_lat_lon(\"../../Data/barra_aus/\",date_time)"
   ]
  },
  {
   "cell_type": "code",
   "execution_count": 37,
   "metadata": {},
   "outputs": [],
   "source": [
    "station_idx={}\n",
    "for station in station_dict.keys():\n",
    "    station_idx[station]=dpt.find_coordinate_acc_lat_lon(lats,lons,station_dict[station])"
   ]
  },
  {
   "cell_type": "code",
   "execution_count": 38,
   "metadata": {},
   "outputs": [
    {
     "data": {
      "text/plain": [
       "{'CARNAMAH': (128, 27),\n",
       " 'MULLEWA': (138, 24),\n",
       " 'WONGAN HILLS': (117, 35),\n",
       " 'BADGINGARRA RESEARCH STN': (122, 24),\n",
       " 'MOUNT BARKER': (83, 43),\n",
       " 'ESPERANCE': (90, 82),\n",
       " 'BENCUBBIN': (117, 45),\n",
       " 'KELLERBERRIN': (110, 44),\n",
       " 'BEVERLEY': (106, 37),\n",
       " 'CORRIGIN': (104, 45),\n",
       " 'HYDEN': (102, 54),\n",
       " 'NARROGIN': (98, 39),\n",
       " 'ONGERUP': (89, 51),\n",
       " 'RAVENSTHORPE': (92, 65),\n",
       " 'SALMON GUMS RES.STN.': (98, 79),\n",
       " 'CEDUNA AMO': (105, 189),\n",
       " 'CLEVE': (91, 214),\n",
       " 'KYANCUTTA': (96, 206),\n",
       " 'STREAKY BAY': (99, 194),\n",
       " 'YONGALA': (97, 235),\n",
       " 'PRICE': (86, 228),\n",
       " 'WAROOKA': (79, 223),\n",
       " 'ROSEDALE (TURRETFIELD RESEARCH CENTRE)': (83, 236),\n",
       " 'MENINGIE': (73, 240),\n",
       " 'KEITH': (69, 250),\n",
       " 'SPRINGSURE COMET ST': (178, 320),\n",
       " 'OAKEY AERO': (148, 353),\n",
       " 'SURAT': (151, 329),\n",
       " 'LAKE VICTORIA STORAGE': (88, 258),\n",
       " 'COLLARENEBRI (ALBERT ST)': (129, 324),\n",
       " 'BALRANALD (RSL)': (83, 279),\n",
       " 'PEAK HILL POST OFFICE': (100, 321),\n",
       " 'CONDOBOLIN AG RESEARCH STN': (97, 312),\n",
       " 'NYNGAN AIRPORT': (111, 312),\n",
       " 'TRANGIE RESEARCH STATION AWS': (107, 319),\n",
       " 'MUNGINDI POST OFFICE': (134, 328),\n",
       " 'QUIRINDI POST OFFICE': (111, 343),\n",
       " 'ORANGE AGRICULTURAL INSTITUTE': (94, 329),\n",
       " 'WAGGA WAGGA AMO': (78, 314),\n",
       " 'GRENFELL (MANGANESE RD)': (89, 320),\n",
       " 'COROWA AIRPORT': (70, 304),\n",
       " 'NARRANDERA AIRPORT AWS': (82, 306),\n",
       " 'HILLSTON AIRPORT': (93, 297),\n",
       " 'LAKE CARGELLIGO AIRPORT': (95, 304),\n",
       " 'MILDURA AIRPORT': (86, 265),\n",
       " 'OUYEN (POST OFFICE)': (79, 267),\n",
       " 'WARRACKNABEAL MUSEUM': (68, 268),\n",
       " 'ECHUCA AERODROME': (69, 290),\n",
       " 'KERANG': (73, 282),\n",
       " 'ARARAT PRISON': (59, 273),\n",
       " 'DERRINALLUM (POST OFFICE)': (52, 276),\n",
       " 'HOLBROOK (NARRABILLA)': (73, 314),\n",
       " 'PENONG': (107, 183),\n",
       " 'BANNOCKBURN (HILLSIDE)': (52, 285),\n",
       " 'PORT LINCOLN (WOOLGA)': (83, 208),\n",
       " 'WEST LORT RIVER': (92, 75),\n",
       " 'GAIRDNER': (86, 55),\n",
       " 'MUNGLINUP': (91, 72),\n",
       " 'TELINA DOWNS': (91, 86),\n",
       " 'WARRIUP': (82, 51),\n",
       " 'CANNA': (135, 27),\n",
       " 'RIVERSIDE': (144, 17),\n",
       " 'COOLANGATTA': (135, 24),\n",
       " 'MURRUMBURRAH (HISTORICAL SOCIETY)': (83, 322),\n",
       " 'OAKWOOD (BENARA)': (128, 347),\n",
       " 'MUMBIL (BURRENDONG DAM)': (100, 329),\n",
       " 'BUTLER TANKS (NORTH PARNDA)': (87, 211),\n",
       " 'SCADDAN WEST': (94, 78),\n",
       " 'MURDINGA (MUNGALA)': (91, 209),\n",
       " 'BARRACUP': (87, 44),\n",
       " 'WELLINGTON (BRINKLEY SOUTH)': (77, 239),\n",
       " 'YEELANA (BRIMPTON LAKE)': (88, 205),\n",
       " 'BEAUMONT WEST': (93, 88),\n",
       " 'NORTH STAR (WOLONGA)': (134, 341),\n",
       " 'BELLATA POST OFFICE': (125, 335),\n",
       " 'GUNNEDAH POOL': (116, 340),\n",
       " 'EUMUNGERIE POST OFFICE': (107, 325),\n",
       " 'DAANDINE': (151, 346),\n",
       " 'WARRUMBUNGLE (MIAGUNYAH)': (114, 327),\n",
       " 'MATARANKA': (140, 17),\n",
       " 'NINDIGULLY': (140, 327),\n",
       " 'MEANDARRA POST OFFICE': (149, 336),\n",
       " 'GREENMANTLE': (193, 316),\n",
       " 'ANGLEDOOL (ANGLEDOOL STATION)': (133, 318),\n",
       " 'BURILDA': (142, 338),\n",
       " 'LUCKNOW': (186, 320),\n",
       " 'TEMORA AMBULANCE STATION': (84, 315),\n",
       " 'CANIAMBO': (66, 298),\n",
       " 'MANOORA (COOINDA)': (89, 236),\n",
       " 'YERONG CREEK (FERTILIZER DEPOT)': (76, 310),\n",
       " 'MOLIAGUL': (63, 280),\n",
       " 'CLEAR LAKE': (62, 263),\n",
       " 'EUGOWRA POST OFFICE': (94, 322),\n",
       " 'WANALTA DAEN STATION': (64, 291),\n",
       " 'GLENORCHY': (62, 270),\n",
       " 'SEA LAKE (POST OFFICE)': (75, 272),\n",
       " 'DUNELM': (96, 49),\n",
       " 'GALGA': (82, 246),\n",
       " 'PINNAROO (KOMBALI)': (79, 254),\n",
       " 'TUTYE (BUNUROUK)': (77, 260),\n",
       " 'PINGRUP': (93, 51),\n",
       " 'NYAH': (78, 277),\n",
       " 'GAMA': (74, 269),\n",
       " 'KAROONDA': (78, 245),\n",
       " 'ALAWOONA': (82, 251),\n",
       " 'SEDAN': (83, 240),\n",
       " 'BOOLEROO CENTRE (WILLOWIE)': (100, 231),\n",
       " 'KOOLUNGA': (92, 231),\n",
       " 'YENDA (HENRY STREET)': (86, 303),\n",
       " 'CRYON (KOOTHNEY)': (125, 323),\n",
       " 'QUAMBONE STATION': (116, 318),\n",
       " 'GARAH POST OFFICE': (133, 334),\n",
       " 'BELLATA (ABERFELDIE)': (126, 331),\n",
       " 'URANA (NOWRANIE)': (76, 301),\n",
       " 'TOTTENHAM (UMANG ST)': (104, 313),\n",
       " 'WATTENING': (113, 33),\n",
       " 'BERKSHIRE VALLEY': (119, 29),\n",
       " 'PASKEVILLE': (88, 227),\n",
       " 'PILLIGA (NIRVANA)': (121, 327),\n",
       " 'MERRIWAGGA (THE OLD SCHOOL CARAVAN PARK': (90, 297),\n",
       " 'GREEN GROVE': (129, 20),\n",
       " 'SANDSPRINGS': (136, 19),\n",
       " 'COLEAMBALLY IRRIGATION': (81, 300),\n",
       " 'BARELLAN POST OFFICE': (86, 306),\n",
       " 'WARREN (MUMBLEBONE)': (111, 316),\n",
       " 'WARROO (GEERON)': (95, 315),\n",
       " 'TULLAMORE (KITCHENER ST)': (101, 315),\n",
       " 'SANDILANDS': (84, 226),\n",
       " 'WALGETT COUNCIL DEPOT': (124, 320),\n",
       " 'CONARGO (PUCKAWIDGEE)': (77, 294),\n",
       " 'HERMIDALE TANK': (110, 307),\n",
       " 'WAKOOL (BARRATTA)': (77, 288),\n",
       " 'DESERT FRINGE': (98, 63),\n",
       " 'BOBADAH (PRETTY VIEW)': (104, 307),\n",
       " 'TRAIGHLI': (146, 340),\n",
       " 'CROPPA CREEK (KRUI PLAINS)': (134, 337),\n",
       " 'MARRA CREEK (WOMBOIN)': (118, 312),\n",
       " 'WYCHEPROOF': (69, 276),\n",
       " 'YANAC NORTH': (69, 259),\n",
       " 'WOODANILLING': (92, 41),\n",
       " 'WYALONG POST OFFICE': (89, 312),\n",
       " 'TOCUMWAL AIRPORT': (72, 297),\n",
       " 'JEPARIT': (69, 264),\n",
       " 'DURHAM OX': (69, 282),\n",
       " 'DONALD': (67, 274),\n",
       " 'WOLSELEY': (67, 255),\n",
       " 'GANMAIN (ROSEDALE)': (81, 310),\n",
       " 'CHESALON': (92, 61),\n",
       " 'BADGEBUP': (92, 46),\n",
       " 'YALGOGRIN NORTH (ROLOMA)': (90, 308),\n",
       " 'GERANIUM': (76, 248),\n",
       " 'MATHOURA (MATHOURA STATION)': (73, 290),\n",
       " 'CULGOA': (73, 275),\n",
       " 'BOSCABEL': (91, 38),\n",
       " 'OAKLANDS GENERAL STORE': (74, 302),\n",
       " 'PINGELLY': (102, 38),\n",
       " 'DINGEE': (67, 285),\n",
       " 'NYERILUP': (90, 54),\n",
       " 'BEULAH': (71, 268),\n",
       " 'WAGIN': (95, 40),\n",
       " 'JAMESTOWN': (96, 234),\n",
       " 'ARDLETHAN (STRATHBOGIE)': (87, 309),\n",
       " 'BELFRAYDEN (NORTH MAYFIELD)': (78, 310),\n",
       " 'WIRREGA (TAUNTON)': (68, 252),\n",
       " 'DIMBOOLA': (66, 265),\n",
       " 'NUMURKAH': (69, 296),\n",
       " 'TARLEE': (86, 235),\n",
       " 'BURCHER POST OFFICE': (93, 312),\n",
       " 'BODALLIN SOUTH': (110, 55),\n",
       " 'KALANNIE': (121, 38),\n",
       " 'LATHAM': (127, 32),\n",
       " 'YGNATTERING': (112, 40),\n",
       " 'MERREDIN': (111, 49),\n",
       " 'NAREMBEEN': (106, 50),\n",
       " 'WIRRULLA': (103, 197),\n",
       " 'PINGARING': (100, 52),\n",
       " 'BULLFINCH': (116, 56),\n",
       " 'WIALKI': (120, 47),\n",
       " 'BARMERA': (86, 251),\n",
       " 'YOUANMI VALLEY': (109, 58),\n",
       " 'ANNUELLO': (81, 272),\n",
       " 'HOLT ROCK': (100, 59),\n",
       " 'KARAWA': (123, 32),\n",
       " 'KIMBA (CORTLINYE)': (97, 213),\n",
       " 'COWCOWING': (116, 41),\n",
       " 'WERRIMULL': (85, 261),\n",
       " 'DUFFIELD RAMCO': (87, 245),\n",
       " 'COWELL': (91, 218),\n",
       " 'YANINEE': (98, 203),\n",
       " 'QUAIRADING': (106, 41),\n",
       " 'MUKINBUDIN': (116, 48),\n",
       " 'NEWDEGATE RESEARCH STATION': (96, 54),\n",
       " 'MALLEE VALE': (132, 26),\n",
       " 'KULIN': (100, 48),\n",
       " 'MOULAMEIN POST OFFICE': (78, 283),\n",
       " 'EUSTON (SUNNYSIDE)': (83, 274),\n",
       " 'KENANDRA': (123, 45),\n",
       " 'MAUDE (NAP NAP)': (84, 284),\n",
       " 'PERENJORI': (130, 31),\n",
       " 'LOXTON RESEARCH CENTRE': (84, 252),\n",
       " 'BOOLIGAL (ULONGA)': (87, 289),\n",
       " 'HILTABA': (105, 202),\n",
       " 'KALAMIA ESTATE': (240, 300),\n",
       " 'BEERBURRUM FOREST STATION': (242, 299),\n",
       " 'BABINDA POST OFFICE': (238, 301),\n",
       " 'MULGRAVE MILL': (234, 300),\n",
       " 'INGHAM COMPOSITE': (228, 302),\n",
       " 'INNISFAIL': (220, 314),\n",
       " 'TULLY SUGAR MILL': (152, 364),\n",
       " 'HAY (MULBERRYGONG)': (84, 294),\n",
       " 'NARRABRI (MOLLEE)': (122, 334),\n",
       " 'MARYBOROUGH': (165, 362),\n",
       " 'LAKE BOGA': (75, 279),\n",
       " 'UNIVERSITY OF QUEENSLAND GATTON': (147, 358)}"
      ]
     },
     "execution_count": 38,
     "metadata": {},
     "output_type": "execute_result"
    }
   ],
   "source": [
    "station_idx"
   ]
  },
  {
   "cell_type": "code",
   "execution_count": null,
   "metadata": {},
   "outputs": [],
   "source": []
  },
  {
   "cell_type": "code",
   "execution_count": 33,
   "metadata": {},
   "outputs": [
    {
     "name": "stdout",
     "output_type": "stream",
     "text": [
      "315\n",
      "315\n"
     ]
    },
    {
     "data": {
      "text/plain": [
       "-0.012492675781260232"
      ]
     },
     "execution_count": 33,
     "metadata": {},
     "output_type": "execute_result"
    }
   ],
   "source": [
    "#testing code, nothing should be care\n",
    "\n",
    "date_time=date(1990,1,1)\n",
    "data,lats,lons=dpt.read_barra_data_fc_get_lat_lon(\"../../Data/barra_aus/\",date_time)\n",
    "\n",
    "\n",
    "\n",
    "station_5={\n",
    "     'WAGGA WAGGA AMO': [-35.1583, 147.4575],\n",
    "     'MENINGIE': [-35.6902, 139.3375],\n",
    "     'SURAT': [-27.1591, 149.0702],\n",
    "     'MILDURA AIRPORT': [-34.2358, 142.0867],\n",
    "     'ORANGE AGRICULTURAL INSTITUTE': [-33.3211, 149.0828],\n",
    "}\n",
    "station_5_idx={}\n",
    "\n",
    "for station in station_5.keys():\n",
    "    target_lat=-35.1583\n",
    "    target_lon=147.4575\n",
    "    idx_lat=len(lats[lats<target_lat])\n",
    "\n",
    "    idx_lon=len(lons.data[lons.data<target_lon])\n",
    "    print(idx_lon)\n",
    "#     if abs(lons.data[idx_lon-1]-target_lon)<abs(lons.data[idx_lon]-target_lon):\n",
    "#         idx_lon-=1\n",
    "#         print(1)\n",
    "    break\n",
    "# #     print(station_5[station])\n",
    "\n",
    "#     station_5_idx[station]=dpt.find_coordinate_acc_lat_lon(lats,lons,station_5[station])\n",
    "#     print(dpt.find_coordinate_acc_lat_lon(lats,lons,station_5[station]))\n",
    "print(idx_lon)\n",
    "lons.data[idx_lon-1]-target_lon"
   ]
  },
  {
   "cell_type": "code",
   "execution_count": 35,
   "metadata": {},
   "outputs": [
    {
     "name": "stdout",
     "output_type": "stream",
     "text": [
      "147.445 147.555\n",
      "1\n"
     ]
    }
   ],
   "source": [
    "# lons.data[idx_lon]-target_lon\n",
    "if abs(lons.data[idx_lon-1]-target_lon)<abs(lons.data[idx_lon]-target_lon):\n",
    "    print(lons.data[idx_lon-1],lons.data[idx_lon])\n",
    "    print(1)"
   ]
  },
  {
   "cell_type": "code",
   "execution_count": null,
   "metadata": {},
   "outputs": [],
   "source": [
    "def map_aust_station(data, lat=None, lon=None,domain = [112.9, 154.25, -43.7425, -9.0],xrarray=True):\n",
    "    '''\n",
    "    The function is find a certain point according to the given latitude and longtitude .\n",
    "    \n",
    "    param:\n",
    "        \n",
    "        lat: the data latitude map. the shape of it is \n",
    "    '''\n",
    "    if str(type(data))==\"<class 'xarray.core.dataarray.DataArray'>\":\n",
    "        da=data.data\n",
    "        lat=data.lat.data\n",
    "        lon=data.lon.data\n",
    "    else:\n",
    "        da=data\n",
    "        \n",
    "#     if domain==None:\n",
    "#         domain = [111.85, 156.275, -44.35, -9.975]\n",
    "    a = np.logical_and(lon>=domain[0], lon<=domain[1])\n",
    "    b = np.logical_and(lat>=domain[2], lat<=domain[3])\n",
    "    return a,b\n",
    "    da=da[b,:][:,a].copy()\n",
    "    llons, llats=lon[a], lat[b] # 将维度按照 x,y 横向竖向\n",
    "        \n",
    "    \n",
    "    return da,llats,llons\n"
   ]
  },
  {
   "cell_type": "code",
   "execution_count": 4,
   "metadata": {},
   "outputs": [],
   "source": [
    "\n",
    "\n",
    "\n",
    "station_5={\n",
    "     'WAGGA WAGGA AMO': [-35.1583, 147.4575],\n",
    "     'MENINGIE': [-35.6902, 139.3375],\n",
    "     'SURAT': [-27.1591, 149.0702],\n",
    "     'MILDURA AIRPORT': [-34.2358, 142.0867],\n",
    "     'ORANGE AGRICULTURAL INSTITUTE': [-33.3211, 149.0828],\n",
    "}\n",
    "\n",
    "station_5_idx={\n",
    "#     坐标\n",
    "    'WAGGA WAGGA AMO': (98, 176),\n",
    "     'MENINGIE': (97, 167),\n",
    "     'SURAT': (113, 178),\n",
    "     'MILDURA AIRPORT': (100, 170),\n",
    "     'ORANGE AGRICULTURAL INSTITUTE': (102, 178)}\n",
    "\n",
    "root_dir='../../data/'\n",
    "# root_dir=\"/g/data/ub7/access-s1/hc/raw_model/atmos/\"\n",
    "var_name='pr'\n",
    "\n",
    "\n",
    "for station in station_5_idx.keys():\n",
    "    container=[]\n",
    "    for en in ['e01','e02','e03','e04','e05','e06','e07','e08','e09','e10','e11']:        \n",
    "        ensamble=[]\n",
    "        for i in range(1,13):\n",
    "            date_time=date(2012,i,1)\n",
    "            filename=root_dir+var_name+\"/daily/\"+en+\"/\"+\"da_\"+var_name+\"_\"+date_time.strftime(\"%Y%m%d\")+\"_\"+en+\".nc\"\n",
    "            data = Dataset(filename, 'r')\n",
    "            \n",
    "#             var = data[var_name][:,station_5_idx[station][0],station_5_idx[station][1]]\n",
    "            var=np.zeros((224,324,432))[:,station_5_idx[station][0],station_5_idx[station][1]]\n",
    "    \n",
    "            ensamble.append(var)\n",
    "            data.close()\n",
    "        container.append(ensamble)\n",
    "    container=np.array(container)\n",
    "    shape=container.shape\n",
    "    f_w = nc.Dataset('../save/5_station_nc_data/'+station+'.nc','w',format = 'NETCDF4')\n",
    "    f_w.createDimension('leading_time',shape[2])\n",
    "    f_w.createDimension('month',shape[1])\n",
    "    f_w.createDimension('ensembles',shape[0])\n",
    "\n",
    "    f_w.createVariable('leading_time',np.int,('leading_time'))\n",
    "    f_w.createVariable('month',np.int,('month'))\n",
    "    f_w.createVariable('ensembles',np.int,('ensembles'))\n",
    "\n",
    "\n",
    "\n",
    "    f_w.variables['leading_time'][:] = np.arange(1,shape[2]+1)\n",
    "    f_w.variables['month'][:] =  np.arange(1,shape[1]+1)\n",
    "    f_w.variables['ensembles'][:] =  np.arange(1,shape[0]+1)\n",
    "\n",
    "\n",
    "    f_w.createVariable( var_name, np.float32, ('ensembles','month','leading_time'))\n",
    "    f_w.variables[var_name][:] = container\n",
    "\n",
    "    f_w.close()\n",
    "        \n",
    "\n",
    "#     print(dpt.read_barra_data_fc(\"../data/barra_aus/\",demo_date)[78,315])\n",
    "\n",
    "#  'WAGGA WAGGA AMO': [78, 315],"
   ]
  },
  {
   "cell_type": "code",
   "execution_count": 4,
   "metadata": {},
   "outputs": [
    {
     "data": {
      "text/plain": [
       "(11, 12, 224)"
      ]
     },
     "execution_count": 4,
     "metadata": {},
     "output_type": "execute_result"
    }
   ],
   "source": [
    "np.array(container).shape"
   ]
  },
  {
   "cell_type": "code",
   "execution_count": 8,
   "metadata": {},
   "outputs": [
    {
     "name": "stdout",
     "output_type": "stream",
     "text": [
      "(98, 176)\n",
      "(97, 167)\n",
      "(113, 178)\n",
      "(100, 170)\n",
      "(102, 178)\n"
     ]
    }
   ],
   "source": [
    "station_5_idx={}\n",
    "\n",
    "for station in station_5.keys():\n",
    "#     print(station_5[station])\n",
    "    data = Dataset('../data/da_pr_19900125_e01.nc', 'r')\n",
    "    lats = data['lat'][:]\n",
    "    lons = data['lon'][:]\n",
    "    station_5_idx[station]=dpt.find_coordinate_acc_lat_lon(lats,lons,station_5[station])\n",
    "    print(dpt.find_coordinate_acc_lat_lon(lats,lons,station_5[station]))\n",
    "    data[\"pr\"]\n",
    "    data.close()"
   ]
  },
  {
   "cell_type": "code",
   "execution_count": 12,
   "metadata": {},
   "outputs": [],
   "source": [
    "station_5_idx={'WAGGA WAGGA AMO': (98, 176),\n",
    " 'MENINGIE': (97, 167),\n",
    " 'SURAT': (113, 178),\n",
    " 'MILDURA AIRPORT': (100, 170),\n",
    " 'ORANGE AGRICULTURAL INSTITUTE': (102, 178)}"
   ]
  },
  {
   "cell_type": "code",
   "execution_count": 17,
   "metadata": {},
   "outputs": [
    {
     "data": {
      "text/plain": [
       "0.0"
      ]
     },
     "execution_count": 17,
     "metadata": {},
     "output_type": "execute_result"
    }
   ],
   "source": [
    "\n",
    "np.zeros((224,324,432))[station_5_idx['MENINGIE']]"
   ]
  },
  {
   "cell_type": "code",
   "execution_count": 42,
   "metadata": {},
   "outputs": [
    {
     "data": {
      "text/plain": [
       "<class 'netCDF4._netCDF4.Variable'>\n",
       "float64 accum_prcp(time, latitude, longitude)\n",
       "    _FillValue: -1073741824.0\n",
       "    standard_name: precipitation_amount\n",
       "    units: kg m-2\n",
       "    um_stash_source: m01s05i226\n",
       "    grid_mapping: latitude_longitude\n",
       "    coordinates: forecast_period forecast_reference_time time\n",
       "    cell_methods: time: sum\n",
       "    long_name: TOTAL PRECIPITATION AMOUNT  KG/M2/TS\n",
       "    stash_code: 5226\n",
       "    wgdos_packing_accuracy: None\n",
       "    stash_comments: Total precipitation amount at the surface in kg/m2 per timestep. This is the sum of the large scale and convective rainfall and snowfall at the surface. You are advised to used 216 instead.\n",
       "    stash_description: TOTAL PRECIPITATION AMOUNT  KG/M2/TS\n",
       "    description: Total precipitation amount at the surface. This is the sum of the large scale rainfall, convective rainfall and snowfall at the surface.\n",
       "    MD5: d007fd135537e47abd308b6247653658\n",
       "unlimited dimensions: \n",
       "current shape = (6, 768, 1200)\n",
       "filling on"
      ]
     },
     "execution_count": 42,
     "metadata": {},
     "output_type": "execute_result"
    }
   ],
   "source": [
    "data = Dataset('../../data/accum_prcp-fc-spec-PT1H-BARRA_R-v1-19900101T0000Z.sub.nc', 'r')\n",
    "data[\"accum_prcp\"]"
   ]
  },
  {
   "cell_type": "code",
   "execution_count": 36,
   "metadata": {},
   "outputs": [
    {
     "data": {
      "text/plain": [
       "<class 'netCDF4._netCDF4.Variable'>\n",
       "float32 pr(time, lat, lon)\n",
       "    _FillValue: -1073741800.0\n",
       "    stash_item: 216\n",
       "    stash_model: 1\n",
       "    lookup_source: defaults (cdunifpp V0.13)\n",
       "    cell_methods: time0: mean\n",
       "    stash_section: 5\n",
       "    missing_value: -1073741800.0\n",
       "    name: pr\n",
       "    long_name: TOTAL PRECIPITATION RATE     KG/M2/S\n",
       "    standard_name: precipitation_flux\n",
       "    units: kg m-2 s-1\n",
       "unlimited dimensions: time\n",
       "current shape = (217, 324, 432)\n",
       "filling on"
      ]
     },
     "execution_count": 36,
     "metadata": {},
     "output_type": "execute_result"
    }
   ],
   "source": [
    "data = Dataset('../../data/da_pr_19900101_e01.nc', 'r')\n",
    "data['pr']"
   ]
  },
  {
   "cell_type": "code",
   "execution_count": 40,
   "metadata": {},
   "outputs": [
    {
     "data": {
      "text/plain": [
       "<class 'netCDF4._netCDF4.Variable'>\n",
       "float32 pr(time, lat, lon)\n",
       "    long_name: precipition\n",
       "    cell_methods: time0: mean\n",
       "    units: mm/day\n",
       "    _FillValue: 1e+20\n",
       "    missing_value: 1e+20\n",
       "unlimited dimensions: time\n",
       "current shape = (217, 691, 886)\n",
       "filling on"
      ]
     },
     "execution_count": 40,
     "metadata": {},
     "output_type": "execute_result"
    }
   ],
   "source": [
    "data = Dataset('../../data/calibrated/daq5_pr_19900101_e01.nc', 'r')\n",
    "data['pr']"
   ]
  },
  {
   "cell_type": "code",
   "execution_count": 17,
   "metadata": {},
   "outputs": [
    {
     "data": {
      "text/plain": [
       "(11, 12, 217)"
      ]
     },
     "execution_count": 17,
     "metadata": {},
     "output_type": "execute_result"
    }
   ],
   "source": [
    "data = Dataset('../save/5_station_nc/MILDURA AIRPORT.nc', 'r')\n",
    "data['pr'][:].shape"
   ]
  },
  {
   "cell_type": "code",
   "execution_count": null,
   "metadata": {},
   "outputs": [],
   "source": [
    "data = Dataset(\"/g/data/ub7/access-s1/hc/raw_model/atmos/pr/daily/e01/da_pr_19900125_e01.nc\", 'r')\n"
   ]
  },
  {
   "cell_type": "code",
   "execution_count": 11,
   "metadata": {},
   "outputs": [
    {
     "data": {
      "text/plain": [
       "masked_array(\n",
       "  data=[[ 5.62667196e-07,  5.27892951e-07,  5.04830723e-07, ...,\n",
       "          9.47191040e-07,  3.76630254e-07, -5.11520994e-08],\n",
       "        [ 4.71734836e-07,  4.56662178e-07,  4.45439838e-07, ...,\n",
       "          1.43481395e-06,  8.07699962e-07,  3.72042223e-07],\n",
       "        [ 5.92522156e-07,  5.12156362e-07,  3.99630153e-07, ...,\n",
       "          4.20466540e-06,  3.92825541e-06,  3.72678960e-06],\n",
       "        ...,\n",
       "        [ 2.27520592e-04,  1.75201771e-04,  1.16123345e-04, ...,\n",
       "          7.69401959e-05,  8.96616693e-05,  9.94255170e-05],\n",
       "        [ 2.45844363e-04,  1.96439796e-04,  1.33386784e-04, ...,\n",
       "          1.04004830e-04,  1.29386623e-04,  1.47146318e-04],\n",
       "        [ 2.46403593e-04,  2.14110798e-04,  1.64012657e-04, ...,\n",
       "          1.40277916e-04,  1.82030446e-04,  2.11216655e-04]],\n",
       "  mask=False,\n",
       "  fill_value=1e+20,\n",
       "  dtype=float32)"
      ]
     },
     "execution_count": 11,
     "metadata": {},
     "output_type": "execute_result"
    }
   ],
   "source": [
    "data = Dataset(\"../../data/pr/daily/e01/da_pr_19900125_e01.nc\", 'r')\n",
    "data['pr']"
   ]
  },
  {
   "cell_type": "code",
   "execution_count": null,
   "metadata": {},
   "outputs": [],
   "source": [
    "dpt.read"
   ]
  }
 ],
 "metadata": {
  "kernelspec": {
   "display_name": "Python 3",
   "language": "python",
   "name": "python3"
  },
  "language_info": {
   "codemirror_mode": {
    "name": "ipython",
    "version": 3
   },
   "file_extension": ".py",
   "mimetype": "text/x-python",
   "name": "python",
   "nbconvert_exporter": "python",
   "pygments_lexer": "ipython3",
   "version": "3.8.5"
  }
 },
 "nbformat": 4,
 "nbformat_minor": 4
}
