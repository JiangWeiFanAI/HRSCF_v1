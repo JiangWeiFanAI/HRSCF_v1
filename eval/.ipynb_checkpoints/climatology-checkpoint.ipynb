{
 "cells": [
  {
   "cell_type": "code",
   "execution_count": 1,
   "metadata": {
    "ExecuteTime": {
     "end_time": "2020-12-23T03:42:33.235875Z",
     "start_time": "2020-12-23T03:42:29.930940Z"
    }
   },
   "outputs": [
    {
     "ename": "MemoryError",
     "evalue": "",
     "output_type": "error",
     "traceback": [
      "\u001b[1;31m---------------------------------------------------------------------------\u001b[0m",
      "\u001b[1;31mMemoryError\u001b[0m                               Traceback (most recent call last)",
      "\u001b[1;32m<ipython-input-1-048cc8069445>\u001b[0m in \u001b[0;36m<module>\u001b[1;34m\u001b[0m\n\u001b[0;32m     14\u001b[0m \u001b[1;31m# obs=np.random.rand(317*376)\u001b[0m\u001b[1;33m\u001b[0m\u001b[1;33m\u001b[0m\u001b[1;33m\u001b[0m\u001b[0m\n\u001b[0;32m     15\u001b[0m \u001b[1;31m# print(ens,obs)\u001b[0m\u001b[1;33m\u001b[0m\u001b[1;33m\u001b[0m\u001b[1;33m\u001b[0m\u001b[0m\n\u001b[1;32m---> 16\u001b[1;33m \u001b[0mps\u001b[0m\u001b[1;33m.\u001b[0m\u001b[0mcrps_ensemble\u001b[0m\u001b[1;33m(\u001b[0m\u001b[0mobs\u001b[0m\u001b[1;33m,\u001b[0m\u001b[0mens\u001b[0m\u001b[1;33m)\u001b[0m\u001b[1;33m.\u001b[0m\u001b[0mshape\u001b[0m\u001b[1;33m\u001b[0m\u001b[1;33m\u001b[0m\u001b[0m\n\u001b[0m",
      "\u001b[1;32mE:\\Users\\Weifa\\Anaconda3\\envs\\py37\\lib\\site-packages\\properscoring\\_crps.py\u001b[0m in \u001b[0;36mcrps_ensemble\u001b[1;34m(observations, forecasts, weights, issorted, axis)\u001b[0m\n\u001b[0;32m    345\u001b[0m         \u001b[0mweights\u001b[0m \u001b[1;33m=\u001b[0m \u001b[0mnp\u001b[0m\u001b[1;33m.\u001b[0m\u001b[0mones_like\u001b[0m\u001b[1;33m(\u001b[0m\u001b[0mforecasts\u001b[0m\u001b[1;33m)\u001b[0m\u001b[1;33m\u001b[0m\u001b[1;33m\u001b[0m\u001b[0m\n\u001b[0;32m    346\u001b[0m \u001b[1;33m\u001b[0m\u001b[0m\n\u001b[1;32m--> 347\u001b[1;33m     \u001b[1;32mreturn\u001b[0m \u001b[0m_crps_ensemble_core\u001b[0m\u001b[1;33m(\u001b[0m\u001b[0mobservations\u001b[0m\u001b[1;33m,\u001b[0m \u001b[0mforecasts\u001b[0m\u001b[1;33m,\u001b[0m \u001b[0mweights\u001b[0m\u001b[1;33m)\u001b[0m\u001b[1;33m\u001b[0m\u001b[1;33m\u001b[0m\u001b[0m\n\u001b[0m",
      "\u001b[1;32mE:\\Users\\Weifa\\Anaconda3\\envs\\py37\\lib\\site-packages\\properscoring\\_crps.py\u001b[0m in \u001b[0;36m_crps_ensemble_vectorized\u001b[1;34m(observations, forecasts, weights)\u001b[0m\n\u001b[0;32m    223\u001b[0m         \u001b[1;31m# forecasts_diff expands with the array broadcasting\u001b[0m\u001b[1;33m\u001b[0m\u001b[1;33m\u001b[0m\u001b[1;33m\u001b[0m\u001b[0m\n\u001b[0;32m    224\u001b[0m         forecasts_diff = (np.expand_dims(forecasts, -1) -\n\u001b[1;32m--> 225\u001b[1;33m                           np.expand_dims(forecasts, -2))\n\u001b[0m\u001b[0;32m    226\u001b[0m         weights_matrix = (np.expand_dims(weights, -1) *\n\u001b[0;32m    227\u001b[0m                           np.expand_dims(weights, -2))\n",
      "\u001b[1;31mMemoryError\u001b[0m: "
     ]
    }
   ],
   "source": [
    "import sys\n",
    "sys.path.append('../')\n",
    "import util.data_processing_tool as dpt\n",
    "\n",
    "import numpy as np\n",
    "import properscoring as ps\n",
    "from datetime import timedelta, date, datetime\n",
    "import os\n",
    "\n",
    "ens=np.random.rand(316, 376,200)\n",
    "obs=np.random.rand(316,376)\n",
    "####################\n",
    "# ens=np.random.rand(11,317*376)\n",
    "# obs=np.random.rand(317*376)\n",
    "# print(ens,obs)\n",
    "ps.crps_ensemble(obs,ens).shape"
   ]
  },
  {
   "cell_type": "code",
   "execution_count": 1,
   "metadata": {
    "ExecuteTime": {
     "end_time": "2020-12-23T03:44:04.169241Z",
     "start_time": "2020-12-23T03:44:02.969198Z"
    }
   },
   "outputs": [
    {
     "name": "stdout",
     "output_type": "stream",
     "text": [
      "Package                           Version            \n",
      "--------------------------------- -------------------\n",
      "-orch                             1.4.0              \n",
      "-umpy                             1.16.6             \n",
      "apex                              0.1                \n",
      "atomicwrites                      1.4.0              \n",
      "attrs                             19.3.0             \n",
      "backcall                          0.1.0              \n",
      "basemap                           1.2.1              \n",
      "bleach                            3.1.0              \n",
      "certifi                           2020.6.20          \n",
      "cffi                              1.14.0             \n",
      "cftime                            1.1.0              \n",
      "chardet                           3.0.4              \n",
      "colorama                          0.4.3              \n",
      "cupy-cuda102                      7.3.0              \n",
      "cycler                            0.10.0             \n",
      "Cython                            0.28.2             \n",
      "d2lzh                             1.0.0              \n",
      "dataclasses                       0.6                \n",
      "deap                              1.3.1              \n",
      "decorator                         4.4.1              \n",
      "defusedxml                        0.6.0              \n",
      "entrypoints                       0.3                \n",
      "fastrlock                         0.4                \n",
      "future                            0.18.2             \n",
      "graphviz                          0.8.4              \n",
      "h5py                              2.10.0             \n",
      "idna                              2.6                \n",
      "imageio                           2.8.0              \n",
      "imgaug                            0.2.9              \n",
      "importlib-metadata                1.5.0              \n",
      "ipykernel                         5.1.4              \n",
      "ipython                           7.12.0             \n",
      "ipython-genutils                  0.2.0              \n",
      "ipywidgets                        7.5.1              \n",
      "jedi                              0.16.0             \n",
      "Jinja2                            2.11.1             \n",
      "joblib                            0.14.1             \n",
      "json5                             0.9.1              \n",
      "jsonpatch                         1.26               \n",
      "jsonpointer                       2.0                \n",
      "jsonschema                        3.2.0              \n",
      "jupyter                           1.0.0              \n",
      "jupyter-client                    5.3.4              \n",
      "jupyter-console                   6.1.0              \n",
      "jupyter-contrib-core              0.3.3              \n",
      "jupyter-contrib-nbextensions      0.5.1              \n",
      "jupyter-core                      4.6.1              \n",
      "jupyter-highlight-selected-word   0.2.0              \n",
      "jupyter-latex-envs                1.4.4              \n",
      "jupyter-nbextensions-configurator 0.4.1              \n",
      "jupyterlab                        1.2.5              \n",
      "jupyterlab-server                 1.0.6              \n",
      "kiwisolver                        1.1.0              \n",
      "libtiff                           0.4.2              \n",
      "lxml                              4.5.0              \n",
      "MarkupSafe                        1.1.1              \n",
      "matplotlib                        3.1.3              \n",
      "minpy                             0.3.4              \n",
      "mistune                           0.8.4              \n",
      "mkl-fft                           1.0.15             \n",
      "mkl-random                        1.1.0              \n",
      "mkl-service                       2.3.0              \n",
      "more-itertools                    8.4.0              \n",
      "nbconvert                         5.6.1              \n",
      "nbformat                          5.0.4              \n",
      "netCDF4                           1.5.3              \n",
      "networkx                          2.4                \n",
      "notebook                          6.0.3              \n",
      "numpy                             1.16.4             \n",
      "olefile                           0.46               \n",
      "opencv-contrib-python             3.4.2.17           \n",
      "opencv-python                     3.4.2.17           \n",
      "packaging                         20.4               \n",
      "pandas                            1.0.1              \n",
      "pandocfilters                     1.4.2              \n",
      "parso                             0.6.1              \n",
      "patsy                             0.5.1              \n",
      "pickleshare                       0.7.5              \n",
      "Pillow                            7.0.0              \n",
      "pip                               20.0.2             \n",
      "pluggy                            0.13.1             \n",
      "prometheus-client                 0.7.1              \n",
      "prompt-toolkit                    3.0.3              \n",
      "properscoring                     0.1                \n",
      "protobuf                          3.13.0             \n",
      "py                                1.9.0              \n",
      "pycocotools                       2.0                \n",
      "pycparser                         2.19               \n",
      "Pygments                          2.5.2              \n",
      "pyparsing                         2.4.6              \n",
      "pyproj                            2.5.0              \n",
      "pyreadr                           0.2.9              \n",
      "pyrsistent                        0.15.7             \n",
      "pyshp                             2.1.0              \n",
      "pytest                            5.4.3              \n",
      "python-dateutil                   2.8.1              \n",
      "pytz                              2019.3             \n",
      "PyWavelets                        1.1.1              \n",
      "pywin32                           227                \n",
      "pywinpty                          0.5.7              \n",
      "PyYAML                            5.3                \n",
      "pyzmq                             18.1.1             \n",
      "qtconsole                         4.7.3              \n",
      "QtPy                              1.9.0              \n",
      "requests                          2.18.4             \n",
      "rpy2                              3.3.4              \n",
      "scikit-image                      0.16.2             \n",
      "scikit-learn                      0.22.1             \n",
      "scipy                             1.2.1              \n",
      "seaborn                           0.10.0             \n",
      "semantic-version                  2.8.4              \n",
      "Send2Trash                        1.5.0              \n",
      "setuptools                        45.2.0.post20200210\n",
      "Shapely                           1.7.1              \n",
      "six                               1.14.0             \n",
      "statsmodels                       0.11.1             \n",
      "tabulate                          0.8.7              \n",
      "tensorboardX                      1.2                \n",
      "termcolor                         1.1.0              \n",
      "terminado                         0.8.3              \n",
      "testpath                          0.4.4              \n",
      "torch                             1.7.0              \n",
      "torchaudio                        0.7.0              \n",
      "torchfile                         0.1.0              \n",
      "torchvision                       0.8.1              \n",
      "tornado                           6.0.3              \n",
      "tqdm                              4.28.1             \n",
      "traitlets                         4.3.3              \n",
      "typing-extensions                 3.7.4.3            \n",
      "tzlocal                           2.1                \n",
      "urllib3                           1.22               \n",
      "visdom                            0.1.8.9            \n",
      "wcwidth                           0.1.8              \n",
      "webencodings                      0.5.1              \n",
      "websocket-client                  0.57.0             \n",
      "wheel                             0.34.2             \n",
      "widgetsnbextension                3.5.1              \n",
      "wincertstore                      0.2                \n",
      "xarray                            0.15.0             \n",
      "xlrd                              1.2.0              \n",
      "yacs                              0.1.4              \n",
      "zipp                              2.2.0              \n"
     ]
    }
   ],
   "source": [
    "!pip list\n"
   ]
  },
  {
   "cell_type": "code",
   "execution_count": 4,
   "metadata": {
    "ExecuteTime": {
     "end_time": "2020-12-23T03:39:40.383547Z",
     "start_time": "2020-12-23T03:39:38.767733Z"
    }
   },
   "outputs": [
    {
     "name": "stderr",
     "output_type": "stream",
     "text": [
      "\r",
      "  0%|          | 0/575 [00:00<?, ?it/s]"
     ]
    },
    {
     "name": "stdout",
     "output_type": "stream",
     "text": [
      "(241, 316, 376)\n"
     ]
    },
    {
     "name": "stderr",
     "output_type": "stream",
     "text": [
      "\n"
     ]
    },
    {
     "ename": "MemoryError",
     "evalue": "",
     "output_type": "error",
     "traceback": [
      "\u001b[1;31m---------------------------------------------------------------------------\u001b[0m",
      "\u001b[1;31mMemoryError\u001b[0m                               Traceback (most recent call last)",
      "\u001b[1;32m<ipython-input-4-7afb86227452>\u001b[0m in \u001b[0;36m<module>\u001b[1;34m\u001b[0m\n\u001b[0;32m     58\u001b[0m         \u001b[0mensamble\u001b[0m\u001b[1;33m=\u001b[0m\u001b[0mnp\u001b[0m\u001b[1;33m.\u001b[0m\u001b[0marray\u001b[0m\u001b[1;33m(\u001b[0m\u001b[0mensamble\u001b[0m\u001b[1;33m)\u001b[0m\u001b[1;33m\u001b[0m\u001b[1;33m\u001b[0m\u001b[0m\n\u001b[0;32m     59\u001b[0m         \u001b[0mprint\u001b[0m\u001b[1;33m(\u001b[0m\u001b[0mensamble\u001b[0m\u001b[1;33m.\u001b[0m\u001b[0mshape\u001b[0m\u001b[1;33m)\u001b[0m\u001b[1;33m\u001b[0m\u001b[1;33m\u001b[0m\u001b[0m\n\u001b[1;32m---> 60\u001b[1;33m         \u001b[0ma\u001b[0m\u001b[1;33m=\u001b[0m\u001b[0mps\u001b[0m\u001b[1;33m.\u001b[0m\u001b[0mcrps_ensemble\u001b[0m\u001b[1;33m(\u001b[0m\u001b[0mhr\u001b[0m\u001b[1;33m,\u001b[0m\u001b[0mensamble\u001b[0m\u001b[1;33m.\u001b[0m\u001b[0mtranspose\u001b[0m\u001b[1;33m(\u001b[0m\u001b[1;36m1\u001b[0m\u001b[1;33m,\u001b[0m\u001b[1;36m2\u001b[0m\u001b[1;33m,\u001b[0m\u001b[1;36m0\u001b[0m\u001b[1;33m)\u001b[0m\u001b[1;33m)\u001b[0m\u001b[1;33m\u001b[0m\u001b[1;33m\u001b[0m\u001b[0m\n\u001b[0m\u001b[0;32m     61\u001b[0m         \u001b[0mcrps_ref\u001b[0m\u001b[1;33m.\u001b[0m\u001b[0mappend\u001b[0m\u001b[1;33m(\u001b[0m\u001b[0ma\u001b[0m\u001b[1;33m)\u001b[0m\u001b[1;33m\u001b[0m\u001b[1;33m\u001b[0m\u001b[0m\n\u001b[0;32m     62\u001b[0m \u001b[1;33m\u001b[0m\u001b[0m\n",
      "\u001b[1;32mE:\\Users\\Weifa\\Anaconda3\\envs\\py37\\lib\\site-packages\\properscoring\\_crps.py\u001b[0m in \u001b[0;36mcrps_ensemble\u001b[1;34m(observations, forecasts, weights, issorted, axis)\u001b[0m\n\u001b[0;32m    345\u001b[0m         \u001b[0mweights\u001b[0m \u001b[1;33m=\u001b[0m \u001b[0mnp\u001b[0m\u001b[1;33m.\u001b[0m\u001b[0mones_like\u001b[0m\u001b[1;33m(\u001b[0m\u001b[0mforecasts\u001b[0m\u001b[1;33m)\u001b[0m\u001b[1;33m\u001b[0m\u001b[1;33m\u001b[0m\u001b[0m\n\u001b[0;32m    346\u001b[0m \u001b[1;33m\u001b[0m\u001b[0m\n\u001b[1;32m--> 347\u001b[1;33m     \u001b[1;32mreturn\u001b[0m \u001b[0m_crps_ensemble_core\u001b[0m\u001b[1;33m(\u001b[0m\u001b[0mobservations\u001b[0m\u001b[1;33m,\u001b[0m \u001b[0mforecasts\u001b[0m\u001b[1;33m,\u001b[0m \u001b[0mweights\u001b[0m\u001b[1;33m)\u001b[0m\u001b[1;33m\u001b[0m\u001b[1;33m\u001b[0m\u001b[0m\n\u001b[0m",
      "\u001b[1;32mE:\\Users\\Weifa\\Anaconda3\\envs\\py37\\lib\\site-packages\\properscoring\\_crps.py\u001b[0m in \u001b[0;36m_crps_ensemble_vectorized\u001b[1;34m(observations, forecasts, weights)\u001b[0m\n\u001b[0;32m    223\u001b[0m         \u001b[1;31m# forecasts_diff expands with the array broadcasting\u001b[0m\u001b[1;33m\u001b[0m\u001b[1;33m\u001b[0m\u001b[1;33m\u001b[0m\u001b[0m\n\u001b[0;32m    224\u001b[0m         forecasts_diff = (np.expand_dims(forecasts, -1) -\n\u001b[1;32m--> 225\u001b[1;33m                           np.expand_dims(forecasts, -2))\n\u001b[0m\u001b[0;32m    226\u001b[0m         weights_matrix = (np.expand_dims(weights, -1) *\n\u001b[0;32m    227\u001b[0m                           np.expand_dims(weights, -2))\n",
      "\u001b[1;31mMemoryError\u001b[0m: "
     ]
    }
   ],
   "source": [
    "#计算climatology for validation \n",
    "\n",
    "# from scipy.stats import norm\n",
    "# ps.crps_ensemble(obs,ens).shape\n",
    "\n",
    "\n",
    "\n",
    "###################paramter you need to set###########################\n",
    "dates_needs=dpt.date_range(date(2010, 1, 1),date(2011, 7, 29))\n",
    "time_windows=6          #range of the target time as climatology ensemble\n",
    "file_BARRA_dir=\"../../Data/barra_aus/\"\n",
    "######################################################################\n",
    "\n",
    "\n",
    "\n",
    "\n",
    "\n",
    "\n",
    "date_map=np.array(dates_needs)\n",
    "# np.where(date_map==date(2012, 1, 1))\n",
    "crps_ref=[]\n",
    "import tqdm\n",
    "for target_date in tqdm.tqdm(dates_needs):\n",
    "    hr=dpt.read_barra_data_fc(file_BARRA_dir,target_date)\n",
    "    ensamble=[]\n",
    "    for y in range(1990,2013):\n",
    "\n",
    "        if target_date.year==y:\n",
    "            continue\n",
    "        \n",
    "        for w in range(1,time_windows): #for what time of windows\n",
    "\n",
    "            filename=file_BARRA_dir+str(y)+(target_date-timedelta(w)).strftime(\"%m%d\")+\".nc\"\n",
    "            if os.path.exists(filename):\n",
    "                t=date(y,(target_date-timedelta(w)).month,(target_date-timedelta(w)).day)\n",
    "                sr=dpt.read_barra_data_fc(file_BARRA_dir,t)\n",
    "                ensamble.append(sr)\n",
    "\n",
    "            filename=file_BARRA_dir+str(y)+(target_date+timedelta(w)).strftime(\"%m%d\")+\".nc\"\n",
    "            if os.path.exists(filename):\n",
    "\n",
    "                t=date(y,(target_date+timedelta(w)).month,(target_date+timedelta(w)).day)\n",
    "\n",
    "\n",
    "                sr=dpt.read_barra_data_fc(file_BARRA_dir,t)\n",
    "                ensamble.append(sr)\n",
    "\n",
    "        filename=file_BARRA_dir+str(y)+target_date.strftime(\"%m%d\")+\".nc\"\n",
    "        if os.path.exists(filename):\n",
    "            t=date(y,target_date.month,target_date.day)\n",
    "            sr=dpt.read_barra_data_fc(file_BARRA_dir,t)\n",
    "            ensamble.append(sr)\n",
    "    if ensamble:\n",
    "        ensamble=np.array(ensamble)\n",
    "        print(ensamble.shape)\n",
    "        a=ps.crps_ensemble(hr,ensamble.transpose(1,2,0))\n",
    "        crps_ref.append(a)\n",
    "\n",
    "if not os.path.exists('../save/crps/climatology/'):\n",
    "    dpt.mkdir('../save/crps/climatology/')\n",
    "np.save(\"../save/crps/climatology/climatology_\"+str(2012)+\"_all_lead_time_windows_11\",np.array(crps_ref))\n",
    "# print(\" : \"+str(np.array(crps_ref).mean()),\",\")"
   ]
  },
  {
   "cell_type": "code",
   "execution_count": 19,
   "metadata": {
    "ExecuteTime": {
     "end_time": "2020-12-23T03:28:12.360811Z",
     "start_time": "2020-12-23T03:28:12.352832Z"
    }
   },
   "outputs": [
    {
     "data": {
      "text/plain": [
       "array([[316, 376],\n",
       "       [316, 376],\n",
       "       [316, 376],\n",
       "       ...,\n",
       "       [316, 376],\n",
       "       [316, 376],\n",
       "       [316, 376]])"
      ]
     },
     "execution_count": 19,
     "metadata": {},
     "output_type": "execute_result"
    }
   ],
   "source": [
    "np.array(crps_ref)"
   ]
  }
 ],
 "metadata": {
  "kernelspec": {
   "display_name": "Python 3",
   "language": "python",
   "name": "python3"
  },
  "language_info": {
   "codemirror_mode": {
    "name": "ipython",
    "version": 3
   },
   "file_extension": ".py",
   "mimetype": "text/x-python",
   "name": "python",
   "nbconvert_exporter": "python",
   "pygments_lexer": "ipython3",
   "version": "3.7.1"
  }
 },
 "nbformat": 4,
 "nbformat_minor": 4
}
