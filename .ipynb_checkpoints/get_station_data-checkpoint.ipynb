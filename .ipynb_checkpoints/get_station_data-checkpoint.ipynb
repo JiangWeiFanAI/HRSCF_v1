{
 "cells": [
  {
   "cell_type": "code",
   "execution_count": 1,
   "metadata": {},
   "outputs": [],
   "source": [
    "import PrepareData as pada\n",
    "import ../data_processing_tool as dpt\n",
    "from datetime import date\n",
    "from netCDF4 import Dataset\n",
    "import numpy as np\n",
    "import netCDF4 as nc\n",
    "\n",
    "\n",
    "station_5={\n",
    "     'WAGGA WAGGA AMO': [-35.1583, 147.4575],\n",
    "     'MENINGIE': [-35.6902, 139.3375],\n",
    "     'SURAT': [-27.1591, 149.0702],\n",
    "     'MILDURA AIRPORT': [-34.2358, 142.0867],\n",
    "     'ORANGE AGRICULTURAL INSTITUTE': [-33.3211, 149.0828],\n",
    "}\n",
    "\n",
    "station_5_idx={\n",
    "#     坐标\n",
    "    'WAGGA WAGGA AMO': (98, 176),\n",
    "     'MENINGIE': (97, 167),\n",
    "     'SURAT': (113, 178),\n",
    "     'MILDURA AIRPORT': (100, 170),\n",
    "     'ORANGE AGRICULTURAL INSTITUTE': (102, 178)}\n",
    "\n",
    "root_dir='../data/'\n",
    "# root_dir=\"/g/data/ub7/access-s1/hc/raw_model/atmos/\"\n",
    "var_name='pr'\n",
    "\n",
    "\n",
    "for station in station_5_idx.keys():\n",
    "    container=[]\n",
    "    for en in ['e01','e02','e03','e04','e05','e06','e07','e08','e09','e10','e11']:        \n",
    "        ensamble=[]\n",
    "        for i in range(1,13):\n",
    "            date_time=date(2012,i,1)\n",
    "            filename=root_dir+var_name+\"/daily/\"+en+\"/\"+\"da_\"+var_name+\"_\"+date_time.strftime(\"%Y%m%d\")+\"_\"+en+\".nc\"\n",
    "            data = Dataset(filename, 'r')\n",
    "            \n",
    "#             var = data[var_name][:,station_5_idx[station][0],station_5_idx[station][1]]\n",
    "            var=np.zeros((224,324,432))[:,station_5_idx[station][0],station_5_idx[station][1]]\n",
    "    \n",
    "            ensamble.append(var)\n",
    "            data.close()\n",
    "        container.append(ensamble)\n",
    "    container=np.array(container)\n",
    "    shape=container.shape\n",
    "    f_w = nc.Dataset('./save/5_station_nc_data/'+station+'.nc','w',format = 'NETCDF4')\n",
    "    f_w.createDimension('leading_time',shape[2])\n",
    "    f_w.createDimension('month',shape[1])\n",
    "    f_w.createDimension('ensembles',shape[0])\n",
    "\n",
    "    f_w.createVariable('leading_time',np.int,('leading_time'))\n",
    "    f_w.createVariable('month',np.int,('month'))\n",
    "    f_w.createVariable('ensembles',np.int,('ensembles'))\n",
    "\n",
    "\n",
    "\n",
    "    f_w.variables['leading_time'][:] = np.arange(1,shape[2]+1)\n",
    "    f_w.variables['month'][:] =  np.arange(1,shape[1]+1)\n",
    "    f_w.variables['ensembles'][:] =  np.arange(1,shape[0]+1)\n",
    "\n",
    "\n",
    "    f_w.createVariable( var_name, np.float32, ('ensembles','month','leading_time'))\n",
    "    f_w.variables[var_name][:] = container\n",
    "\n",
    "    f_w.close()\n",
    "        \n",
    "\n",
    "#     print(dpt.read_barra_data_fc(\"../data/barra_aus/\",demo_date)[78,315])\n",
    "\n",
    "#  'WAGGA WAGGA AMO': [78, 315],"
   ]
  },
  {
   "cell_type": "code",
   "execution_count": 4,
   "metadata": {},
   "outputs": [
    {
     "data": {
      "text/plain": [
       "(11, 12, 224)"
      ]
     },
     "execution_count": 4,
     "metadata": {},
     "output_type": "execute_result"
    }
   ],
   "source": [
    "np.array(container).shape"
   ]
  },
  {
   "cell_type": "code",
   "execution_count": 8,
   "metadata": {},
   "outputs": [
    {
     "name": "stdout",
     "output_type": "stream",
     "text": [
      "(98, 176)\n",
      "(97, 167)\n",
      "(113, 178)\n",
      "(100, 170)\n",
      "(102, 178)\n"
     ]
    }
   ],
   "source": [
    "station_5_idx={}\n",
    "\n",
    "for station in station_5.keys():\n",
    "#     print(station_5[station])\n",
    "    data = Dataset('../data/da_pr_19900125_e01.nc', 'r')\n",
    "    lats = data['lat'][:]\n",
    "    lons = data['lon'][:]\n",
    "    station_5_idx[station]=dpt.find_coordinate_acc_lat_lon(lats,lons,station_5[station])\n",
    "    print(dpt.find_coordinate_acc_lat_lon(lats,lons,station_5[station]))\n",
    "    data[\"pr\"]\n",
    "    data.close()"
   ]
  },
  {
   "cell_type": "code",
   "execution_count": 12,
   "metadata": {},
   "outputs": [],
   "source": [
    "station_5_idx={'WAGGA WAGGA AMO': (98, 176),\n",
    " 'MENINGIE': (97, 167),\n",
    " 'SURAT': (113, 178),\n",
    " 'MILDURA AIRPORT': (100, 170),\n",
    " 'ORANGE AGRICULTURAL INSTITUTE': (102, 178)}"
   ]
  },
  {
   "cell_type": "code",
   "execution_count": 17,
   "metadata": {},
   "outputs": [
    {
     "data": {
      "text/plain": [
       "0.0"
      ]
     },
     "execution_count": 17,
     "metadata": {},
     "output_type": "execute_result"
    }
   ],
   "source": [
    "\n",
    "np.zeros((224,324,432))[station_5_idx['MENINGIE']]"
   ]
  },
  {
   "cell_type": "code",
   "execution_count": 12,
   "metadata": {},
   "outputs": [
    {
     "data": {
      "text/plain": [
       "numpy.float32"
      ]
     },
     "execution_count": 12,
     "metadata": {},
     "output_type": "execute_result"
    }
   ],
   "source": [
    "data = Dataset('../data/da_pr_19900125_e01.nc', 'r')\n",
    "type(data['pr'][:].data[0,1,1])"
   ]
  },
  {
   "cell_type": "code",
   "execution_count": 7,
   "metadata": {},
   "outputs": [
    {
     "data": {
      "text/plain": [
       "(11, 12, 224)"
      ]
     },
     "execution_count": 7,
     "metadata": {},
     "output_type": "execute_result"
    }
   ],
   "source": [
    "data = Dataset('./save/5_station_nc_data/WAGGA WAGGA AMO.nc', 'r')\n",
    "data['pr'][:].data.shape"
   ]
  }
 ],
 "metadata": {
  "kernelspec": {
   "display_name": "Python 3",
   "language": "python",
   "name": "python3"
  },
  "language_info": {
   "codemirror_mode": {
    "name": "ipython",
    "version": 3
   },
   "file_extension": ".py",
   "mimetype": "text/x-python",
   "name": "python",
   "nbconvert_exporter": "python",
   "pygments_lexer": "ipython3",
   "version": "3.7.1"
  }
 },
 "nbformat": 4,
 "nbformat_minor": 4
}
